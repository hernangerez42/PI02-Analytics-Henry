{
 "cells": [
  {
   "cell_type": "code",
   "execution_count": 25,
   "metadata": {},
   "outputs": [],
   "source": [
    "import pandas as pd\n",
    "import numpy as np\n",
    "import matplotlib.pyplot as plt\n"
   ]
  },
  {
   "cell_type": "code",
   "execution_count": 26,
   "metadata": {},
   "outputs": [],
   "source": [
    "df = pd.read_csv('AccidentesAviones.csv')\n",
    "df1 = pd.read_csv('Accidentes_Aviones_mod.csv')"
   ]
  },
  {
   "cell_type": "code",
   "execution_count": 27,
   "metadata": {},
   "outputs": [
    {
     "data": {
      "text/plain": [
       "(5008, 18)"
      ]
     },
     "execution_count": 27,
     "metadata": {},
     "output_type": "execute_result"
    }
   ],
   "source": [
    "df.shape"
   ]
  },
  {
   "cell_type": "code",
   "execution_count": 28,
   "metadata": {},
   "outputs": [],
   "source": [
    "#remplazo todos los ? por NaN\n",
    "df = df.replace('?', np.nan)"
   ]
  },
  {
   "cell_type": "code",
   "execution_count": 29,
   "metadata": {},
   "outputs": [
    {
     "data": {
      "text/plain": [
       "Unnamed: 0                   0\n",
       "fecha                        0\n",
       "HORA declarada            1504\n",
       "Ruta                         5\n",
       "OperadOR                    10\n",
       "flight_no                 3682\n",
       "route                      763\n",
       "ac_type                     13\n",
       "registration               272\n",
       "cn_ln                      667\n",
       "all_aboard                  17\n",
       "PASAJEROS A BORDO          221\n",
       "crew_aboard                219\n",
       "cantidad de fallecidos       8\n",
       "passenger_fatalities       235\n",
       "crew_fatalities            235\n",
       "ground                      44\n",
       "summary                     59\n",
       "dtype: int64"
      ]
     },
     "execution_count": 29,
     "metadata": {},
     "output_type": "execute_result"
    }
   ],
   "source": [
    "df.isnull().sum()"
   ]
  },
  {
   "cell_type": "code",
   "execution_count": 30,
   "metadata": {},
   "outputs": [],
   "source": [
    "#eliminamos columnas que no aportan informacion\n",
    "df = df.drop(['flight_no','route','HORA declarada','cn_ln'], axis=1)"
   ]
  },
  {
   "cell_type": "code",
   "execution_count": 31,
   "metadata": {},
   "outputs": [],
   "source": [
    "#reemplazar los nulos por 27 de pasajeros a bordo\n",
    "df['PASAJEROS A BORDO'] = df['PASAJEROS A BORDO'].fillna(27)"
   ]
  },
  {
   "cell_type": "code",
   "execution_count": 32,
   "metadata": {},
   "outputs": [
    {
     "data": {
      "text/html": [
       "<div>\n",
       "<style scoped>\n",
       "    .dataframe tbody tr th:only-of-type {\n",
       "        vertical-align: middle;\n",
       "    }\n",
       "\n",
       "    .dataframe tbody tr th {\n",
       "        vertical-align: top;\n",
       "    }\n",
       "\n",
       "    .dataframe thead th {\n",
       "        text-align: right;\n",
       "    }\n",
       "</style>\n",
       "<table border=\"1\" class=\"dataframe\">\n",
       "  <thead>\n",
       "    <tr style=\"text-align: right;\">\n",
       "      <th></th>\n",
       "      <th>Unnamed: 0</th>\n",
       "      <th>fecha</th>\n",
       "      <th>Ruta</th>\n",
       "      <th>OperadOR</th>\n",
       "      <th>ac_type</th>\n",
       "      <th>registration</th>\n",
       "      <th>all_aboard</th>\n",
       "      <th>PASAJEROS A BORDO</th>\n",
       "      <th>crew_aboard</th>\n",
       "      <th>cantidad de fallecidos</th>\n",
       "      <th>passenger_fatalities</th>\n",
       "      <th>crew_fatalities</th>\n",
       "      <th>ground</th>\n",
       "      <th>summary</th>\n",
       "    </tr>\n",
       "  </thead>\n",
       "  <tbody>\n",
       "    <tr>\n",
       "      <th>0</th>\n",
       "      <td>0</td>\n",
       "      <td>September 17, 1908</td>\n",
       "      <td>Fort Myer, Virginia</td>\n",
       "      <td>Military - U.S. Army</td>\n",
       "      <td>Wright Flyer III</td>\n",
       "      <td>NaN</td>\n",
       "      <td>2</td>\n",
       "      <td>1</td>\n",
       "      <td>1</td>\n",
       "      <td>1</td>\n",
       "      <td>1</td>\n",
       "      <td>0</td>\n",
       "      <td>0</td>\n",
       "      <td>During a demonstration flight, a U.S. Army fly...</td>\n",
       "    </tr>\n",
       "  </tbody>\n",
       "</table>\n",
       "</div>"
      ],
      "text/plain": [
       "   Unnamed: 0               fecha                 Ruta              OperadOR   \n",
       "0           0  September 17, 1908  Fort Myer, Virginia  Military - U.S. Army  \\\n",
       "\n",
       "            ac_type registration all_aboard PASAJEROS A BORDO crew_aboard   \n",
       "0  Wright Flyer III          NaN          2                 1           1  \\\n",
       "\n",
       "  cantidad de fallecidos passenger_fatalities crew_fatalities ground   \n",
       "0                      1                    1               0      0  \\\n",
       "\n",
       "                                             summary  \n",
       "0  During a demonstration flight, a U.S. Army fly...  "
      ]
     },
     "execution_count": 32,
     "metadata": {},
     "output_type": "execute_result"
    }
   ],
   "source": [
    "df.head(1)"
   ]
  },
  {
   "cell_type": "code",
   "execution_count": 66,
   "metadata": {},
   "outputs": [],
   "source": [
    "#Renombramos las columnas para que sean mas entendibles\n",
    "df = df.rename(columns={'Ruta': 'ruta',\n",
    "                        'OperadOR': 'operador',\n",
    "                        'ac_type': 'tipo_aeronave',\n",
    "                        'registration': 'registro',\n",
    "                        'all_aboard': 'todos_abordo',\n",
    "                        'PASAJEROS A BORDO': 'pasajeros_abordo',\n",
    "                        'crew_fatalities': 'tripulacion_fallecidos',\n",
    "                        'cantidad de fallecidos':'cantidad_fallecidos',\n",
    "                        'crew_aboard': 'tripulacion_abordo',\n",
    "                        'passenger_fatalities': 'pasajeros_fallecidos',\n",
    "                        'ground': 'fallecidos_en_tierra',\n",
    "                        'summary': 'resumen'})"
   ]
  },
  {
   "cell_type": "code",
   "execution_count": 38,
   "metadata": {},
   "outputs": [],
   "source": [
    "#filtramos y eliminamos los valores nulos de la columna todos_abordo\n",
    "df = df[df['todos_abordo'].notna()]"
   ]
  },
  {
   "cell_type": "code",
   "execution_count": 63,
   "metadata": {},
   "outputs": [
    {
     "data": {
      "text/plain": [
       "Unnamed: 0                0\n",
       "fecha                     0\n",
       "ruta                      5\n",
       "operador                 10\n",
       "tipo_avion               11\n",
       "registro                262\n",
       "todos_abordo              0\n",
       "pasajeros_abordo          0\n",
       "tripulacion_abordo      202\n",
       "cantidad_fallecidos       0\n",
       "pasajeros_fallecidos    221\n",
       "crew_fatalities         220\n",
       "fallecidos_en_tierra     32\n",
       "resumen                  51\n",
       "sobrevivientes            0\n",
       "decada                    0\n",
       "dtype: int64"
      ]
     },
     "execution_count": 63,
     "metadata": {},
     "output_type": "execute_result"
    }
   ],
   "source": [
    "df.isnull().sum()"
   ]
  },
  {
   "cell_type": "code",
   "execution_count": 41,
   "metadata": {},
   "outputs": [],
   "source": [
    "#convertimos la columna todos_abordo y cantidad_fallecidos a in\n",
    "df['todos_abordo'] = df['todos_abordo'].astype(int)\n",
    "df['cantidad_fallecidos'] = df['cantidad_fallecidos'].astype(int)\n",
    "#creamos la columna sobrevivientes y la llenamos con la resta de todos_abordo menos los cantidad_fallecidos\n",
    "df['sobrevivientes'] = df['todos_abordo'] - df['cantidad_fallecidos']"
   ]
  },
  {
   "cell_type": "code",
   "execution_count": 58,
   "metadata": {},
   "outputs": [],
   "source": [
    "#convertimos la columna fecha a datetime\n",
    "df['fecha'] = pd.to_datetime(df['fecha'])\n",
    "#creamos la columna decada y la llenamos con el año de la columna fecha\n",
    "df['decada'] = df['fecha'].dt.year\n",
    "#editamos la columna decadad cambiando el año por la decada\n",
    "df['decada'] = df['decada'].apply(lambda x: str(x)[:3] + \"0\")"
   ]
  },
  {
   "cell_type": "code",
   "execution_count": 65,
   "metadata": {},
   "outputs": [
    {
     "data": {
      "text/html": [
       "<div>\n",
       "<style scoped>\n",
       "    .dataframe tbody tr th:only-of-type {\n",
       "        vertical-align: middle;\n",
       "    }\n",
       "\n",
       "    .dataframe tbody tr th {\n",
       "        vertical-align: top;\n",
       "    }\n",
       "\n",
       "    .dataframe thead th {\n",
       "        text-align: right;\n",
       "    }\n",
       "</style>\n",
       "<table border=\"1\" class=\"dataframe\">\n",
       "  <thead>\n",
       "    <tr style=\"text-align: right;\">\n",
       "      <th></th>\n",
       "      <th>Unnamed: 0</th>\n",
       "      <th>fecha</th>\n",
       "      <th>ruta</th>\n",
       "      <th>operador</th>\n",
       "      <th>tipo_avion</th>\n",
       "      <th>registro</th>\n",
       "      <th>todos_abordo</th>\n",
       "      <th>pasajeros_abordo</th>\n",
       "      <th>tripulacion_abordo</th>\n",
       "      <th>cantidad_fallecidos</th>\n",
       "      <th>pasajeros_fallecidos</th>\n",
       "      <th>crew_fatalities</th>\n",
       "      <th>fallecidos_en_tierra</th>\n",
       "      <th>resumen</th>\n",
       "      <th>sobrevivientes</th>\n",
       "      <th>decada</th>\n",
       "    </tr>\n",
       "  </thead>\n",
       "  <tbody>\n",
       "    <tr>\n",
       "      <th>0</th>\n",
       "      <td>0</td>\n",
       "      <td>1908-09-17</td>\n",
       "      <td>Fort Myer, Virginia</td>\n",
       "      <td>Military - U.S. Army</td>\n",
       "      <td>Wright Flyer III</td>\n",
       "      <td>NaN</td>\n",
       "      <td>2</td>\n",
       "      <td>1</td>\n",
       "      <td>1</td>\n",
       "      <td>1</td>\n",
       "      <td>1</td>\n",
       "      <td>0</td>\n",
       "      <td>0</td>\n",
       "      <td>During a demonstration flight, a U.S. Army fly...</td>\n",
       "      <td>1</td>\n",
       "      <td>1900</td>\n",
       "    </tr>\n",
       "    <tr>\n",
       "      <th>1</th>\n",
       "      <td>1</td>\n",
       "      <td>1909-09-07</td>\n",
       "      <td>Juvisy-sur-Orge, France</td>\n",
       "      <td>NaN</td>\n",
       "      <td>Wright Byplane</td>\n",
       "      <td>SC1</td>\n",
       "      <td>1</td>\n",
       "      <td>0</td>\n",
       "      <td>1</td>\n",
       "      <td>1</td>\n",
       "      <td>0</td>\n",
       "      <td>0</td>\n",
       "      <td>0</td>\n",
       "      <td>Eugene Lefebvre was the first pilot to ever be...</td>\n",
       "      <td>0</td>\n",
       "      <td>1900</td>\n",
       "    </tr>\n",
       "    <tr>\n",
       "      <th>2</th>\n",
       "      <td>2</td>\n",
       "      <td>1912-07-12</td>\n",
       "      <td>Atlantic City, New Jersey</td>\n",
       "      <td>Military - U.S. Navy</td>\n",
       "      <td>Dirigible</td>\n",
       "      <td>NaN</td>\n",
       "      <td>5</td>\n",
       "      <td>0</td>\n",
       "      <td>5</td>\n",
       "      <td>5</td>\n",
       "      <td>0</td>\n",
       "      <td>5</td>\n",
       "      <td>0</td>\n",
       "      <td>First U.S. dirigible Akron exploded just offsh...</td>\n",
       "      <td>0</td>\n",
       "      <td>1910</td>\n",
       "    </tr>\n",
       "    <tr>\n",
       "      <th>3</th>\n",
       "      <td>3</td>\n",
       "      <td>1913-08-06</td>\n",
       "      <td>Victoria, British Columbia, Canada</td>\n",
       "      <td>Private</td>\n",
       "      <td>Curtiss seaplane</td>\n",
       "      <td>NaN</td>\n",
       "      <td>1</td>\n",
       "      <td>0</td>\n",
       "      <td>1</td>\n",
       "      <td>1</td>\n",
       "      <td>0</td>\n",
       "      <td>1</td>\n",
       "      <td>0</td>\n",
       "      <td>The first fatal airplane accident in Canada oc...</td>\n",
       "      <td>0</td>\n",
       "      <td>1910</td>\n",
       "    </tr>\n",
       "  </tbody>\n",
       "</table>\n",
       "</div>"
      ],
      "text/plain": [
       "   Unnamed: 0      fecha                                ruta   \n",
       "0           0 1908-09-17                 Fort Myer, Virginia  \\\n",
       "1           1 1909-09-07             Juvisy-sur-Orge, France   \n",
       "2           2 1912-07-12           Atlantic City, New Jersey   \n",
       "3           3 1913-08-06  Victoria, British Columbia, Canada   \n",
       "\n",
       "               operador        tipo_avion registro  todos_abordo   \n",
       "0  Military - U.S. Army  Wright Flyer III      NaN             2  \\\n",
       "1                   NaN    Wright Byplane      SC1             1   \n",
       "2  Military - U.S. Navy         Dirigible      NaN             5   \n",
       "3               Private  Curtiss seaplane      NaN             1   \n",
       "\n",
       "  pasajeros_abordo tripulacion_abordo  cantidad_fallecidos   \n",
       "0                1                  1                    1  \\\n",
       "1                0                  1                    1   \n",
       "2                0                  5                    5   \n",
       "3                0                  1                    1   \n",
       "\n",
       "  pasajeros_fallecidos crew_fatalities fallecidos_en_tierra   \n",
       "0                    1               0                    0  \\\n",
       "1                    0               0                    0   \n",
       "2                    0               5                    0   \n",
       "3                    0               1                    0   \n",
       "\n",
       "                                             resumen  sobrevivientes decada  \n",
       "0  During a demonstration flight, a U.S. Army fly...               1   1900  \n",
       "1  Eugene Lefebvre was the first pilot to ever be...               0   1900  \n",
       "2  First U.S. dirigible Akron exploded just offsh...               0   1910  \n",
       "3  The first fatal airplane accident in Canada oc...               0   1910  "
      ]
     },
     "execution_count": 65,
     "metadata": {},
     "output_type": "execute_result"
    }
   ],
   "source": [
    "df.head(4)"
   ]
  },
  {
   "cell_type": "code",
   "execution_count": null,
   "metadata": {},
   "outputs": [],
   "source": [
    "guardamos el dataset en un csv\n",
    "#df.to_csv('Accidentes_Aviones_mod.csv', index=False)"
   ]
  }
 ],
 "metadata": {
  "kernelspec": {
   "display_name": "Python 3",
   "language": "python",
   "name": "python3"
  },
  "language_info": {
   "codemirror_mode": {
    "name": "ipython",
    "version": 3
   },
   "file_extension": ".py",
   "mimetype": "text/x-python",
   "name": "python",
   "nbconvert_exporter": "python",
   "pygments_lexer": "ipython3",
   "version": "3.11.3"
  },
  "orig_nbformat": 4
 },
 "nbformat": 4,
 "nbformat_minor": 2
}
